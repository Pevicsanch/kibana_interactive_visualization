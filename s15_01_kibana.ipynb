{
 "cells": [
  {
   "cell_type": "markdown",
   "id": "857001a9",
   "metadata": {},
   "source": [
    "$~$\n",
    "\n",
    "# IT Academy - Data Science Itinerary\n",
    "\n",
    "\n",
    "\n",
    "$~$"
   ]
  },
  {
   "cell_type": "markdown",
   "id": "ad6e86cc",
   "metadata": {},
   "source": [
    "## S15 T01: Interactive Visualization with ElasticSearch Stack\n",
    "___\n"
   ]
  },
  {
   "cell_type": "code",
   "execution_count": 13,
   "id": "343f71ef",
   "metadata": {},
   "outputs": [],
   "source": [
    "#importing libraries\n",
    "import kaggle\n"
   ]
  },
  {
   "cell_type": "markdown",
   "id": "7557656a",
   "metadata": {},
   "source": [
    "$~$\n",
    "___\n",
    "####  Exercise 1\n",
    "\n",
    "$~$\n",
    "\n",
    "+ Download Kibana and show some graphs using Example datasets.\n",
    "\n",
    "$~$\n",
    "___"
   ]
  },
  {
   "cell_type": "markdown",
   "id": "e1e0131a",
   "metadata": {},
   "source": [
    "$~$\n",
    "\n",
    "The first thing we need to do is download and install Elasticsearch, and then Kibana. For this we have followed what is explained in [this tutorial](https://logz.io/blog/brew-install-elasticsearch-mac/)\n",
    "\n",
    "$~$\n",
    "\n",
    "In this first part we have done the download and installation via [homebrew](https://brew.sh/)\n",
    "\n",
    "$~$\n",
    "\n",
    "\n",
    "<p align=\"center\">\n",
    "  <img width=\"70%\" src=./images/image0.png>\n",
    "</p>\n",
    "\n",
    "\n",
    "$~$\n",
    "\n",
    "\n",
    "Once we have downloaded and installed it, For this exercise we used the E-commers test data provided by kibana.\n",
    "\n",
    "$~$\n",
    "\n",
    "+ let's see for example, what is the proportion of **customers by gender**:\n",
    "\n",
    "$~$"
   ]
  },
  {
   "cell_type": "markdown",
   "id": "9b84e46d",
   "metadata": {},
   "source": [
    "<p align=\"center\">\n",
    "  <img width=\"60%\" src=./images/image1.png>\n",
    "</p>"
   ]
  },
  {
   "cell_type": "markdown",
   "id": "da7c5cf4",
   "metadata": {},
   "source": [
    "$~$\n",
    "\n",
    "+ Let's now see the best-selling products during the last week by gender:\n",
    "\n",
    "$~$\n",
    "\n",
    "<p align=\"center\">\n",
    "  <img width=\"70%\" src=./images/image2.png>\n",
    "</p>\n"
   ]
  },
  {
   "cell_type": "markdown",
   "id": "214112c9",
   "metadata": {},
   "source": [
    "$~$\n",
    "___\n",
    "####  Exercise 2\n",
    "\n",
    "$~$\n",
    "\n",
    "Implement a dashboard that interactively displays the data you choose.\n",
    "\n",
    "$~$\n",
    "___"
   ]
  },
  {
   "cell_type": "markdown",
   "id": "6cee6d7a",
   "metadata": {},
   "source": [
    "$~$\n",
    "\n",
    "+ for this exercise we will use this [kaggle dataset](https://www.kaggle.com/datasets/ruchi798/data-science-job-salaries) on Salaries of jobs in the Data Science domain\n",
    "\n",
    "$~$\n",
    "\n",
    "The dataset consists of the following variables:\n",
    "\n",
    "$~$\n",
    " \n",
    " + work_year:\tThe year the salary was paid.\n",
    " \n",
    " + experience_level: The experience level in the job during the year with the following possible values: EN Entry-level / Junior MI Mid-level / Intermediate SE Senior-level / Expert EX Executive-level / Director\n",
    "\n",
    " + employment_type: The type of employement for the role: PT Part-time FT Full-time CT Contract FL Freelance.\n",
    "\n",
    "+ job_title: The role worked in during the year.\n",
    "\n",
    "+ salary: The total gross salary amount paid.\n",
    "\n",
    "+ salary_currency: The currency of the salary paid as an ISO 4217 currency code.\n",
    "\n",
    "+ salaryinusd: The salary in USD (FX rate divided by avg. USD rate for the respective year via fxdata.foorilla.com).\n",
    "\n",
    "+ employee_residence: Employee's primary country of residence in during the work year as an ISO 3166 country code.\n",
    "\n",
    "+ remote_ratio: The overall amount of work done remotely, possible values are as follows: 0 No remote work (less than 20%) 50 Partially remote 100 Fully remote (more than 80%)\n",
    "\n",
    "+ company_location: The country of the employer's main office or contracting branch as an ISO 3166 country code.\n",
    "\n",
    "+ company_size: The average number of people that worked for the company during the year: S less than 50 employees (small) M 50 to 250 employees (medium) L more than 250 employees (large)\n"
   ]
  },
  {
   "cell_type": "markdown",
   "id": "4f56880e",
   "metadata": {},
   "source": [
    "$~$\n",
    "\n",
    "by executing the following cell we will get the dataset:\n",
    "\n",
    "$~$"
   ]
  },
  {
   "cell_type": "code",
   "execution_count": null,
   "id": "57681c7a",
   "metadata": {},
   "outputs": [],
   "source": [
    "#download the dataset\n",
    "!kaggle datasets download -d ruchi798/data-science-job-salaries --unzip"
   ]
  },
  {
   "cell_type": "markdown",
   "id": "6cd76e8f",
   "metadata": {},
   "source": []
  },
  {
   "cell_type": "markdown",
   "id": "19cbb790",
   "metadata": {},
   "source": [
    "<p align=\"center\">\n",
    "  <img width=\"90%\" src=./images/image3.png>\n",
    "  \n",
    "</p>\n"
   ]
  },
  {
   "cell_type": "markdown",
   "id": "d7caa1ff",
   "metadata": {},
   "source": [
    "$~$\n",
    "___\n",
    "####  Exercise 3\n",
    "\n",
    "$~$\n",
    "\n",
    "Implement a dashboard that generates graphics using each of the different types of graphics that Kibana offers.\n",
    "\n",
    "$~$\n",
    "___"
   ]
  },
  {
   "cell_type": "markdown",
   "id": "d0eedf5c",
   "metadata": {},
   "source": [
    "___\n",
    "$~$\n",
    "\n",
    "####  *References*:\n",
    "\n",
    "+ [Installing the ELK Stack on Mac OS X with Homebrew](https://logz.io/blog/brew-install-elasticsearch-mac/) \n",
    "\n",
    "$~$\n",
    "___"
   ]
  },
  {
   "cell_type": "markdown",
   "id": "5eb9914b",
   "metadata": {},
   "source": []
  }
 ],
 "metadata": {
  "kernelspec": {
   "display_name": "Python 3.9.5 64-bit ('3.9.5')",
   "language": "python",
   "name": "python3"
  },
  "language_info": {
   "codemirror_mode": {
    "name": "ipython",
    "version": 3
   },
   "file_extension": ".py",
   "mimetype": "text/x-python",
   "name": "python",
   "nbconvert_exporter": "python",
   "pygments_lexer": "ipython3",
   "version": "3.9.5"
  },
  "toc": {
   "base_numbering": 1,
   "nav_menu": {},
   "number_sections": false,
   "sideBar": true,
   "skip_h1_title": false,
   "title_cell": "Table of Contents",
   "title_sidebar": "Contents",
   "toc_cell": false,
   "toc_position": {},
   "toc_section_display": true,
   "toc_window_display": true
  },
  "vscode": {
   "interpreter": {
    "hash": "c196e456b92eeb3a60b06f99b3c60ac6c4763f8bb1169beee1475ccb9dd5a29f"
   }
  }
 },
 "nbformat": 4,
 "nbformat_minor": 5
}
