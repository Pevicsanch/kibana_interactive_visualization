{
 "cells": [
  {
   "cell_type": "markdown",
   "id": "857001a9",
   "metadata": {},
   "source": [
    "$~$\n",
    "\n",
    "# IT Academy - Data Science Itinerary\n",
    "\n",
    "\n",
    "\n",
    "$~$"
   ]
  },
  {
   "cell_type": "markdown",
   "id": "ad6e86cc",
   "metadata": {},
   "source": [
    "## S15 T01: Interactive Visualization with ElasticSearch Stack\n",
    "___\n"
   ]
  },
  {
   "cell_type": "code",
   "execution_count": 3,
   "id": "343f71ef",
   "metadata": {},
   "outputs": [],
   "source": [
    "#importing libraries\n",
    "import kaggle\n",
    "from IPython.display import IFrame"
   ]
  },
  {
   "cell_type": "markdown",
   "id": "7557656a",
   "metadata": {},
   "source": [
    "$~$\n",
    "___\n",
    "####  Exercise 1\n",
    "\n",
    "$~$\n",
    "\n",
    "+ Download Kibana and show some graphs using Example datasets.\n",
    "\n",
    "$~$\n",
    "___"
   ]
  },
  {
   "cell_type": "markdown",
   "id": "e1e0131a",
   "metadata": {},
   "source": [
    "$~$\n",
    "\n",
    "For this exercise we are going to use the E-commers test data provided by kibana.\n",
    "\n",
    "$~$\n",
    "\n",
    "+ let's see for example, what is the proportion of **customers by gender**:\n",
    "\n",
    "$~$"
   ]
  },
  {
   "cell_type": "markdown",
   "id": "9b84e46d",
   "metadata": {},
   "source": [
    "<p align=\"center\">\n",
    "  <img width=\"60%\" src=./images/image1.png>\n",
    "</p>"
   ]
  },
  {
   "cell_type": "markdown",
   "id": "da7c5cf4",
   "metadata": {},
   "source": [
    "$~$\n",
    "\n",
    "+ Let's now see the best-selling products during the last week by gender:\n",
    "\n",
    "$~$\n",
    "\n",
    "<p align=\"center\">\n",
    "  <img width=\"70%\" src=./images/image2.png>\n",
    "</p>\n"
   ]
  },
  {
   "cell_type": "markdown",
   "id": "214112c9",
   "metadata": {},
   "source": [
    "$~$\n",
    "___\n",
    "####  Exercise 2\n",
    "\n",
    "$~$\n",
    "\n",
    "Implement a dashboard that interactively displays the data you choose.\n",
    "\n",
    "$~$\n",
    "___"
   ]
  },
  {
   "cell_type": "markdown",
   "id": "6cee6d7a",
   "metadata": {},
   "source": [
    "$~$\n",
    "\n",
    "+ for this exercise we will use this [kaggle dataset](https://www.kaggle.com/datasets/ruchi798/data-science-job-salaries) on Salaries of jobs in the Data Science domain\n",
    "\n",
    "$~$"
   ]
  },
  {
   "cell_type": "code",
   "execution_count": 1,
   "id": "57681c7a",
   "metadata": {},
   "outputs": [
    {
     "name": "stdout",
     "output_type": "stream",
     "text": [
      "Downloading data-science-job-salaries.zip to /Users/pedrosanchezsanchez/Dropbox/PROYECTOS/it_academy/kibana_interactive_visualization\n",
      "  0%|                                               | 0.00/7.37k [00:00<?, ?B/s]\n",
      "100%|███████████████████████████████████████| 7.37k/7.37k [00:00<00:00, 143kB/s]\n"
     ]
    }
   ],
   "source": [
    "#download the dataset\n",
    "!kaggle datasets download -d ruchi798/data-science-job-salaries --unzip"
   ]
  },
  {
   "cell_type": "markdown",
   "id": "6cd76e8f",
   "metadata": {},
   "source": []
  },
  {
   "cell_type": "markdown",
   "id": "19cbb790",
   "metadata": {},
   "source": [
    "<p align=\"center\">\n",
    "  <img width=\"90%\" src=./images/image3.png>\n",
    "  \n",
    "</p>\n"
   ]
  },
  {
   "cell_type": "markdown",
   "id": "d7caa1ff",
   "metadata": {},
   "source": [
    "$~$\n",
    "___\n",
    "####  Exercise 3\n",
    "\n",
    "$~$\n",
    "\n",
    "Implement a dashboard that generates graphics using each of the different types of graphics that Kibana offers.\n",
    "\n",
    "$~$\n",
    "___"
   ]
  },
  {
   "cell_type": "markdown",
   "id": "dca1eb0c",
   "metadata": {},
   "source": [
    "$~$\n",
    "___\n",
    "####  Conclusions\n",
    "\n",
    "$~$\n",
    "\n",
    "\n",
    "\n",
    "\n",
    "___\n",
    "$~$"
   ]
  },
  {
   "cell_type": "markdown",
   "id": "d0eedf5c",
   "metadata": {},
   "source": [
    "___\n",
    "$~$\n",
    "\n",
    "####  *References*:\n",
    "\n",
    "+ [Installing the ELK Stack on Mac OS X with Homebrew](https://logz.io/blog/brew-install-elasticsearch-mac/) \n",
    "+ []() \n",
    "+ []() \n",
    "$~$\n",
    "___"
   ]
  }
 ],
 "metadata": {
  "kernelspec": {
   "display_name": "Python 3.9.5 64-bit ('3.9.5')",
   "language": "python",
   "name": "python3"
  },
  "language_info": {
   "codemirror_mode": {
    "name": "ipython",
    "version": 3
   },
   "file_extension": ".py",
   "mimetype": "text/x-python",
   "name": "python",
   "nbconvert_exporter": "python",
   "pygments_lexer": "ipython3",
   "version": "3.9.5"
  },
  "toc": {
   "base_numbering": 1,
   "nav_menu": {},
   "number_sections": false,
   "sideBar": true,
   "skip_h1_title": false,
   "title_cell": "Table of Contents",
   "title_sidebar": "Contents",
   "toc_cell": false,
   "toc_position": {},
   "toc_section_display": true,
   "toc_window_display": true
  },
  "vscode": {
   "interpreter": {
    "hash": "c196e456b92eeb3a60b06f99b3c60ac6c4763f8bb1169beee1475ccb9dd5a29f"
   }
  }
 },
 "nbformat": 4,
 "nbformat_minor": 5
}
